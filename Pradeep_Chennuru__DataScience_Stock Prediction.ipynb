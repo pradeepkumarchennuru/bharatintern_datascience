{
  "cells": [
    {
      "cell_type": "markdown",
      "id": "f1f38129",
      "metadata": {
        "id": "f1f38129"
      },
      "source": [
        "#### Name : Pradeep Kumar Chennuru"
      ]
    },
    {
      "cell_type": "code",
      "execution_count": null,
      "id": "57d98035",
      "metadata": {
        "id": "57d98035"
      },
      "outputs": [],
      "source": [
        "#Importing key libraries, and reading data\n",
        "import pandas as pd\n",
        "import numpy as np\n",
        "import matplotlib.pyplot as plt\n",
        "\n",
        "import keras\n",
        "from keras.models import Model\n",
        "from keras.layers import *\n",
        "from keras import optimizers\n",
        "from keras.layers import Dense,Dropout,SimpleRNN,LSTM\n",
        "from keras.models import Sequential\n",
        "\n",
        "from sklearn.preprocessing import MinMaxScaler\n",
        "from sklearn.model_selection import train_test_split\n",
        "from sklearn.metrics import r2_score"
      ]
    },
    {
      "cell_type": "code",
      "execution_count": null,
      "id": "989f41a3",
      "metadata": {
        "id": "989f41a3"
      },
      "outputs": [],
      "source": [
        "data = pd.read_csv(r\"MSFT-1.csv\")"
      ]
    },
    {
      "cell_type": "code",
      "execution_count": null,
      "id": "e89d6324",
      "metadata": {
        "id": "e89d6324",
        "outputId": "8901d945-189f-44f8-e25a-146c57aa4afd",
        "scrolled": true,
        "colab": {
          "base_uri": "https://localhost:8080/",
          "height": 206
        }
      },
      "outputs": [
        {
          "output_type": "execute_result",
          "data": {
            "text/plain": [
              "         Date       Open       High        Low      Close  Adj Close    Volume\n",
              "0   11/7/2016  59.779999  60.520000  59.779999  60.419998  55.902321  31664800\n",
              "1   11/8/2016  60.549999  60.779999  60.150002  60.470001  55.948589  22935400\n",
              "2   11/9/2016  60.000000  60.590000  59.200001  60.169998  55.671009  49632500\n",
              "3  11/10/2016  60.480000  60.490002  57.630001  58.700001  54.310928  57822400\n",
              "4  11/11/2016  58.230000  59.119999  58.009998  59.020000  54.607002  38767800"
            ],
            "text/html": [
              "\n",
              "  <div id=\"df-8b4fc704-f9a1-4e1e-8a86-b856561133bb\">\n",
              "    <div class=\"colab-df-container\">\n",
              "      <div>\n",
              "<style scoped>\n",
              "    .dataframe tbody tr th:only-of-type {\n",
              "        vertical-align: middle;\n",
              "    }\n",
              "\n",
              "    .dataframe tbody tr th {\n",
              "        vertical-align: top;\n",
              "    }\n",
              "\n",
              "    .dataframe thead th {\n",
              "        text-align: right;\n",
              "    }\n",
              "</style>\n",
              "<table border=\"1\" class=\"dataframe\">\n",
              "  <thead>\n",
              "    <tr style=\"text-align: right;\">\n",
              "      <th></th>\n",
              "      <th>Date</th>\n",
              "      <th>Open</th>\n",
              "      <th>High</th>\n",
              "      <th>Low</th>\n",
              "      <th>Close</th>\n",
              "      <th>Adj Close</th>\n",
              "      <th>Volume</th>\n",
              "    </tr>\n",
              "  </thead>\n",
              "  <tbody>\n",
              "    <tr>\n",
              "      <th>0</th>\n",
              "      <td>11/7/2016</td>\n",
              "      <td>59.779999</td>\n",
              "      <td>60.520000</td>\n",
              "      <td>59.779999</td>\n",
              "      <td>60.419998</td>\n",
              "      <td>55.902321</td>\n",
              "      <td>31664800</td>\n",
              "    </tr>\n",
              "    <tr>\n",
              "      <th>1</th>\n",
              "      <td>11/8/2016</td>\n",
              "      <td>60.549999</td>\n",
              "      <td>60.779999</td>\n",
              "      <td>60.150002</td>\n",
              "      <td>60.470001</td>\n",
              "      <td>55.948589</td>\n",
              "      <td>22935400</td>\n",
              "    </tr>\n",
              "    <tr>\n",
              "      <th>2</th>\n",
              "      <td>11/9/2016</td>\n",
              "      <td>60.000000</td>\n",
              "      <td>60.590000</td>\n",
              "      <td>59.200001</td>\n",
              "      <td>60.169998</td>\n",
              "      <td>55.671009</td>\n",
              "      <td>49632500</td>\n",
              "    </tr>\n",
              "    <tr>\n",
              "      <th>3</th>\n",
              "      <td>11/10/2016</td>\n",
              "      <td>60.480000</td>\n",
              "      <td>60.490002</td>\n",
              "      <td>57.630001</td>\n",
              "      <td>58.700001</td>\n",
              "      <td>54.310928</td>\n",
              "      <td>57822400</td>\n",
              "    </tr>\n",
              "    <tr>\n",
              "      <th>4</th>\n",
              "      <td>11/11/2016</td>\n",
              "      <td>58.230000</td>\n",
              "      <td>59.119999</td>\n",
              "      <td>58.009998</td>\n",
              "      <td>59.020000</td>\n",
              "      <td>54.607002</td>\n",
              "      <td>38767800</td>\n",
              "    </tr>\n",
              "  </tbody>\n",
              "</table>\n",
              "</div>\n",
              "      <button class=\"colab-df-convert\" onclick=\"convertToInteractive('df-8b4fc704-f9a1-4e1e-8a86-b856561133bb')\"\n",
              "              title=\"Convert this dataframe to an interactive table.\"\n",
              "              style=\"display:none;\">\n",
              "        \n",
              "  <svg xmlns=\"http://www.w3.org/2000/svg\" height=\"24px\"viewBox=\"0 0 24 24\"\n",
              "       width=\"24px\">\n",
              "    <path d=\"M0 0h24v24H0V0z\" fill=\"none\"/>\n",
              "    <path d=\"M18.56 5.44l.94 2.06.94-2.06 2.06-.94-2.06-.94-.94-2.06-.94 2.06-2.06.94zm-11 1L8.5 8.5l.94-2.06 2.06-.94-2.06-.94L8.5 2.5l-.94 2.06-2.06.94zm10 10l.94 2.06.94-2.06 2.06-.94-2.06-.94-.94-2.06-.94 2.06-2.06.94z\"/><path d=\"M17.41 7.96l-1.37-1.37c-.4-.4-.92-.59-1.43-.59-.52 0-1.04.2-1.43.59L10.3 9.45l-7.72 7.72c-.78.78-.78 2.05 0 2.83L4 21.41c.39.39.9.59 1.41.59.51 0 1.02-.2 1.41-.59l7.78-7.78 2.81-2.81c.8-.78.8-2.07 0-2.86zM5.41 20L4 18.59l7.72-7.72 1.47 1.35L5.41 20z\"/>\n",
              "  </svg>\n",
              "      </button>\n",
              "      \n",
              "  <style>\n",
              "    .colab-df-container {\n",
              "      display:flex;\n",
              "      flex-wrap:wrap;\n",
              "      gap: 12px;\n",
              "    }\n",
              "\n",
              "    .colab-df-convert {\n",
              "      background-color: #E8F0FE;\n",
              "      border: none;\n",
              "      border-radius: 50%;\n",
              "      cursor: pointer;\n",
              "      display: none;\n",
              "      fill: #1967D2;\n",
              "      height: 32px;\n",
              "      padding: 0 0 0 0;\n",
              "      width: 32px;\n",
              "    }\n",
              "\n",
              "    .colab-df-convert:hover {\n",
              "      background-color: #E2EBFA;\n",
              "      box-shadow: 0px 1px 2px rgba(60, 64, 67, 0.3), 0px 1px 3px 1px rgba(60, 64, 67, 0.15);\n",
              "      fill: #174EA6;\n",
              "    }\n",
              "\n",
              "    [theme=dark] .colab-df-convert {\n",
              "      background-color: #3B4455;\n",
              "      fill: #D2E3FC;\n",
              "    }\n",
              "\n",
              "    [theme=dark] .colab-df-convert:hover {\n",
              "      background-color: #434B5C;\n",
              "      box-shadow: 0px 1px 3px 1px rgba(0, 0, 0, 0.15);\n",
              "      filter: drop-shadow(0px 1px 2px rgba(0, 0, 0, 0.3));\n",
              "      fill: #FFFFFF;\n",
              "    }\n",
              "  </style>\n",
              "\n",
              "      <script>\n",
              "        const buttonEl =\n",
              "          document.querySelector('#df-8b4fc704-f9a1-4e1e-8a86-b856561133bb button.colab-df-convert');\n",
              "        buttonEl.style.display =\n",
              "          google.colab.kernel.accessAllowed ? 'block' : 'none';\n",
              "\n",
              "        async function convertToInteractive(key) {\n",
              "          const element = document.querySelector('#df-8b4fc704-f9a1-4e1e-8a86-b856561133bb');\n",
              "          const dataTable =\n",
              "            await google.colab.kernel.invokeFunction('convertToInteractive',\n",
              "                                                     [key], {});\n",
              "          if (!dataTable) return;\n",
              "\n",
              "          const docLinkHtml = 'Like what you see? Visit the ' +\n",
              "            '<a target=\"_blank\" href=https://colab.research.google.com/notebooks/data_table.ipynb>data table notebook</a>'\n",
              "            + ' to learn more about interactive tables.';\n",
              "          element.innerHTML = '';\n",
              "          dataTable['output_type'] = 'display_data';\n",
              "          await google.colab.output.renderOutput(dataTable, element);\n",
              "          const docLink = document.createElement('div');\n",
              "          docLink.innerHTML = docLinkHtml;\n",
              "          element.appendChild(docLink);\n",
              "        }\n",
              "      </script>\n",
              "    </div>\n",
              "  </div>\n",
              "  "
            ]
          },
          "metadata": {},
          "execution_count": 8
        }
      ],
      "source": [
        "data.head()"
      ]
    },
    {
      "cell_type": "code",
      "execution_count": null,
      "id": "94307485",
      "metadata": {
        "colab": {
          "base_uri": "https://localhost:8080/"
        },
        "id": "94307485",
        "outputId": "8062728b-456f-4b91-9fcc-fc93d4dec200"
      },
      "outputs": [
        {
          "output_type": "stream",
          "name": "stdout",
          "text": [
            "<class 'pandas.core.frame.DataFrame'>\n",
            "RangeIndex: 1259 entries, 0 to 1258\n",
            "Data columns (total 7 columns):\n",
            " #   Column     Non-Null Count  Dtype  \n",
            "---  ------     --------------  -----  \n",
            " 0   Date       1259 non-null   object \n",
            " 1   Open       1259 non-null   float64\n",
            " 2   High       1259 non-null   float64\n",
            " 3   Low        1259 non-null   float64\n",
            " 4   Close      1259 non-null   float64\n",
            " 5   Adj Close  1259 non-null   float64\n",
            " 6   Volume     1259 non-null   int64  \n",
            "dtypes: float64(5), int64(1), object(1)\n",
            "memory usage: 69.0+ KB\n"
          ]
        }
      ],
      "source": [
        "data.info()"
      ]
    },
    {
      "cell_type": "code",
      "execution_count": null,
      "id": "a14067ed",
      "metadata": {
        "id": "a14067ed"
      },
      "outputs": [],
      "source": [
        "# I picked the \"Low\" column to work on\n",
        "\n",
        "Low_data = data.iloc[:,3:4].values"
      ]
    },
    {
      "cell_type": "code",
      "execution_count": null,
      "id": "4a0d26a2",
      "metadata": {
        "colab": {
          "base_uri": "https://localhost:8080/"
        },
        "id": "4a0d26a2",
        "outputId": "fcd14e46-f096-4a25-efa8-b2b7c5c536bd"
      },
      "outputs": [
        {
          "output_type": "execute_result",
          "data": {
            "text/plain": [
              "array([[ 59.779999],\n",
              "       [ 60.150002],\n",
              "       [ 59.200001],\n",
              "       ...,\n",
              "       [330.649994],\n",
              "       [329.51001 ],\n",
              "       [334.420013]])"
            ]
          },
          "metadata": {},
          "execution_count": 8
        }
      ],
      "source": [
        "Low_data           # checking the data"
      ]
    },
    {
      "cell_type": "code",
      "source": [
        "data.shape"
      ],
      "metadata": {
        "colab": {
          "base_uri": "https://localhost:8080/"
        },
        "id": "m88kVoV_81J1",
        "outputId": "017a91dc-5efd-4fa7-a749-bb68f1839fa9"
      },
      "id": "m88kVoV_81J1",
      "execution_count": null,
      "outputs": [
        {
          "output_type": "execute_result",
          "data": {
            "text/plain": [
              "(1259, 7)"
            ]
          },
          "metadata": {},
          "execution_count": 9
        }
      ]
    },
    {
      "cell_type": "code",
      "source": [
        "#plotting graph for close price\n",
        "df1 = data.reset_index()['Close']\n",
        "plt.figure(figsize=(14,14))\n",
        "plt.plot(df1)\n",
        "plt.title('Historical Stock Value')\n",
        "plt.xlabel('Date')\n",
        "plt.ylabel('Stock Price')\n",
        "plt.show()"
      ],
      "metadata": {
        "colab": {
          "base_uri": "https://localhost:8080/",
          "height": 839
        },
        "id": "Ez48CVWR9VLm",
        "outputId": "87f95c14-7b0e-467a-f429-2ce30cf23d63"
      },
      "id": "Ez48CVWR9VLm",
      "execution_count": null,
      "outputs": [
        {
          "output_type": "display_data",
          "data": {
            "text/plain": [
              "<Figure size 1008x1008 with 1 Axes>"
            ],
            "image/png": "[encoded data removed]"
          },
          "metadata": {
            "needs_background": "light"
          }
        }
      ]
    },
    {
      "cell_type": "markdown",
      "source": [
        "we are going to use only one column \"close\" for time series analysis.\n",
        "\n"
      ],
      "metadata": {
        "id": "0R0Mz1wA9hkO"
      },
      "id": "0R0Mz1wA9hkO"
    },
    {
      "cell_type": "code",
      "source": [
        "df_close = data['Close'].values\n",
        "df_close = df_close.reshape(-1,1)"
      ],
      "metadata": {
        "id": "sHp8Mkez9ifH"
      },
      "id": "sHp8Mkez9ifH",
      "execution_count": null,
      "outputs": []
    },
    {
      "cell_type": "code",
      "source": [
        "df_close.shape"
      ],
      "metadata": {
        "colab": {
          "base_uri": "https://localhost:8080/"
        },
        "id": "sX3ah5vx9rRd",
        "outputId": "8a0e68ac-cc3a-413d-d048-de8d96b7dbb2"
      },
      "id": "sX3ah5vx9rRd",
      "execution_count": null,
      "outputs": [
        {
          "output_type": "execute_result",
          "data": {
            "text/plain": [
              "(1259, 1)"
            ]
          },
          "metadata": {},
          "execution_count": 13
        }
      ]
    },
    {
      "cell_type": "code",
      "source": [
        "train = len(df_close)*0.8\n",
        "train = int(train)\n",
        "train, test = df_close[0:train, :], df_close[train:len(df_close), :1]"
      ],
      "metadata": {
        "id": "V0wOi1YF9tZc"
      },
      "id": "V0wOi1YF9tZc",
      "execution_count": null,
      "outputs": []
    },
    {
      "cell_type": "code",
      "source": [
        "train.shape\n"
      ],
      "metadata": {
        "colab": {
          "base_uri": "https://localhost:8080/"
        },
        "id": "v2hvKV-H9vJ7",
        "outputId": "1277f7c1-2f0e-49d7-e9ff-275551bb729f"
      },
      "id": "v2hvKV-H9vJ7",
      "execution_count": null,
      "outputs": [
        {
          "output_type": "execute_result",
          "data": {
            "text/plain": [
              "(1007, 1)"
            ]
          },
          "metadata": {},
          "execution_count": 15
        }
      ]
    },
    {
      "cell_type": "code",
      "source": [
        "test.shape\n"
      ],
      "metadata": {
        "colab": {
          "base_uri": "https://localhost:8080/"
        },
        "id": "_P8E7Fma9wqx",
        "outputId": "08dbb5a2-fa5d-44a8-c331-33f2f34638c2"
      },
      "id": "_P8E7Fma9wqx",
      "execution_count": null,
      "outputs": [
        {
          "output_type": "execute_result",
          "data": {
            "text/plain": [
              "(252, 1)"
            ]
          },
          "metadata": {},
          "execution_count": 16
        }
      ]
    },
    {
      "cell_type": "markdown",
      "id": "5feb4a3d",
      "metadata": {
        "id": "5feb4a3d"
      },
      "source": [
        "Data PreProcess"
      ]
    },
    {
      "cell_type": "code",
      "source": [
        "# Importing the training set\n",
        "dataset_train = pd.read_csv(r\"MSFT-1.csv\")\n",
        "# '.values' need the 2nd Column Opening Price as a Numpy array (not vector)\n",
        "# '1:2' is used because the upper bound is ignored\n",
        "training_set = dataset_train.iloc[:, 1:2].values"
      ],
      "metadata": {
        "id": "BvHOdk1JPX4m"
      },
      "id": "BvHOdk1JPX4m",
      "execution_count": null,
      "outputs": []
    },
    {
      "cell_type": "code",
      "source": [
        "# Feature Scaling\n",
        "# Use Normalization (versus Standardization) for RNNs with Sigmoid Activation Functions\n",
        "# 'MinMaxScalar' is a Normalization Library\n",
        "from sklearn.preprocessing import MinMaxScaler\n",
        "# 'feature_range = (0,1)' makes sure that training data is scaled to have values between 0 and 1\n",
        "sc = MinMaxScaler(feature_range = (0, 1))\n",
        "training_set_scaled = sc.fit_transform(training_set)"
      ],
      "metadata": {
        "id": "Z8KseScsPgUC"
      },
      "id": "Z8KseScsPgUC",
      "execution_count": null,
      "outputs": []
    },
    {
      "cell_type": "code",
      "source": [
        "# Creating a data structure with 60 timesteps (look back 60 days) and 1 output\n",
        "# This tells the RNN what to remember (Number of timesteps) when predicting the next Stock Price\n",
        "# The wrong number of timesteps can lead to Overfitting or bogus results\n",
        "# 'x_train' Input with 60 previous days' stock prices\n",
        "X_train = []\n",
        "# 'y_train' Output with next day's stock price\n",
        "y_train = []\n",
        "for i in range(60, 1258):\n",
        "    X_train.append(training_set_scaled[i-60:i, 0])\n",
        "    y_train.append(training_set_scaled[i, 0])\n",
        "X_train, y_train = np.array(X_train), np.array(y_train)"
      ],
      "metadata": {
        "id": "6AFUH3_ePhER"
      },
      "id": "6AFUH3_ePhER",
      "execution_count": null,
      "outputs": []
    },
    {
      "cell_type": "code",
      "source": [
        "# Reshaping (add more dimensions)\n",
        "# This lets you add more indicators that may potentially have corelation with Stock Prices\n",
        "# Keras RNNs expects an input shape (Batch Size, Timesteps, input_dim)\n",
        "# '.shape[0]' is the number of Rows (Batch Size)\n",
        "# '.shape[1]' is the number of Columns (timesteps)\n",
        "# 'input_dim' is the number of factors that may affect stock prices\n",
        "X_train = np.reshape(X_train, (X_train.shape[0], X_train.shape[1], 1))"
      ],
      "metadata": {
        "id": "CixwJ9wMPi68"
      },
      "id": "CixwJ9wMPi68",
      "execution_count": null,
      "outputs": []
    },
    {
      "cell_type": "code",
      "source": [
        "# Show the dataset we're working with\n",
        "display(dataset_train)"
      ],
      "metadata": {
        "colab": {
          "base_uri": "https://localhost:8080/",
          "height": 424
        },
        "id": "E39tjQB4PlzG",
        "outputId": "63ec4426-b2e1-4bf2-a9b4-31e41e7fecf6"
      },
      "id": "E39tjQB4PlzG",
      "execution_count": null,
      "outputs": [
        {
          "output_type": "display_data",
          "data": {
            "text/plain": [
              "            Date        Open        High         Low       Close   Adj Close  \\\n",
              "0      11/7/2016   59.779999   60.520000   59.779999   60.419998   55.902321   \n",
              "1      11/8/2016   60.549999   60.779999   60.150002   60.470001   55.948589   \n",
              "2      11/9/2016   60.000000   60.590000   59.200001   60.169998   55.671009   \n",
              "3     11/10/2016   60.480000   60.490002   57.630001   58.700001   54.310928   \n",
              "4     11/11/2016   58.230000   59.119999   58.009998   59.020000   54.607002   \n",
              "...          ...         ...         ...         ...         ...         ...   \n",
              "1254   11/1/2021  331.359985  331.489990  326.369995  329.369995  329.369995   \n",
              "1255   11/2/2021  330.309998  333.450012  330.000000  333.130005  333.130005   \n",
              "1256   11/3/2021  333.899994  334.899994  330.649994  334.000000  334.000000   \n",
              "1257   11/4/2021  332.890015  336.540009  329.510010  336.440002  336.440002   \n",
              "1258   11/5/2021  338.510010  338.790009  334.420013  336.059998  336.059998   \n",
              "\n",
              "        Volume  \n",
              "0     31664800  \n",
              "1     22935400  \n",
              "2     49632500  \n",
              "3     57822400  \n",
              "4     38767800  \n",
              "...        ...  \n",
              "1254  27073200  \n",
              "1255  26487100  \n",
              "1256  21500100  \n",
              "1257  23992200  \n",
              "1258  22564000  \n",
              "\n",
              "[1259 rows x 7 columns]"
            ],
            "text/html": [
              "\n",
              "  <div id=\"df-00ca3ec0-a5df-4f08-9f9b-a27a6a353d55\">\n",
              "    <div class=\"colab-df-container\">\n",
              "      <div>\n",
              "<style scoped>\n",
              "    .dataframe tbody tr th:only-of-type {\n",
              "        vertical-align: middle;\n",
              "    }\n",
              "\n",
              "    .dataframe tbody tr th {\n",
              "        vertical-align: top;\n",
              "    }\n",
              "\n",
              "    .dataframe thead th {\n",
              "        text-align: right;\n",
              "    }\n",
              "</style>\n",
              "<table border=\"1\" class=\"dataframe\">\n",
              "  <thead>\n",
              "    <tr style=\"text-align: right;\">\n",
              "      <th></th>\n",
              "      <th>Date</th>\n",
              "      <th>Open</th>\n",
              "      <th>High</th>\n",
              "      <th>Low</th>\n",
              "      <th>Close</th>\n",
              "      <th>Adj Close</th>\n",
              "      <th>Volume</th>\n",
              "    </tr>\n",
              "  </thead>\n",
              "  <tbody>\n",
              "    <tr>\n",
              "      <th>0</th>\n",
              "      <td>11/7/2016</td>\n",
              "      <td>59.779999</td>\n",
              "      <td>60.520000</td>\n",
              "      <td>59.779999</td>\n",
              "      <td>60.419998</td>\n",
              "      <td>55.902321</td>\n",
              "      <td>31664800</td>\n",
              "    </tr>\n",
              "    <tr>\n",
              "      <th>1</th>\n",
              "      <td>11/8/2016</td>\n",
              "      <td>60.549999</td>\n",
              "      <td>60.779999</td>\n",
              "      <td>60.150002</td>\n",
              "      <td>60.470001</td>\n",
              "      <td>55.948589</td>\n",
              "      <td>22935400</td>\n",
              "    </tr>\n",
              "    <tr>\n",
              "      <th>2</th>\n",
              "      <td>11/9/2016</td>\n",
              "      <td>60.000000</td>\n",
              "      <td>60.590000</td>\n",
              "      <td>59.200001</td>\n",
              "      <td>60.169998</td>\n",
              "      <td>55.671009</td>\n",
              "      <td>49632500</td>\n",
              "    </tr>\n",
              "    <tr>\n",
              "      <th>3</th>\n",
              "      <td>11/10/2016</td>\n",
              "      <td>60.480000</td>\n",
              "      <td>60.490002</td>\n",
              "      <td>57.630001</td>\n",
              "      <td>58.700001</td>\n",
              "      <td>54.310928</td>\n",
              "      <td>57822400</td>\n",
              "    </tr>\n",
              "    <tr>\n",
              "      <th>4</th>\n",
              "      <td>11/11/2016</td>\n",
              "      <td>58.230000</td>\n",
              "      <td>59.119999</td>\n",
              "      <td>58.009998</td>\n",
              "      <td>59.020000</td>\n",
              "      <td>54.607002</td>\n",
              "      <td>38767800</td>\n",
              "    </tr>\n",
              "    <tr>\n",
              "      <th>...</th>\n",
              "      <td>...</td>\n",
              "      <td>...</td>\n",
              "      <td>...</td>\n",
              "      <td>...</td>\n",
              "      <td>...</td>\n",
              "      <td>...</td>\n",
              "      <td>...</td>\n",
              "    </tr>\n",
              "    <tr>\n",
              "      <th>1254</th>\n",
              "      <td>11/1/2021</td>\n",
              "      <td>331.359985</td>\n",
              "      <td>331.489990</td>\n",
              "      <td>326.369995</td>\n",
              "      <td>329.369995</td>\n",
              "      <td>329.369995</td>\n",
              "      <td>27073200</td>\n",
              "    </tr>\n",
              "    <tr>\n",
              "      <th>1255</th>\n",
              "      <td>11/2/2021</td>\n",
              "      <td>330.309998</td>\n",
              "      <td>333.450012</td>\n",
              "      <td>330.000000</td>\n",
              "      <td>333.130005</td>\n",
              "      <td>333.130005</td>\n",
              "      <td>26487100</td>\n",
              "    </tr>\n",
              "    <tr>\n",
              "      <th>1256</th>\n",
              "      <td>11/3/2021</td>\n",
              "      <td>333.899994</td>\n",
              "      <td>334.899994</td>\n",
              "      <td>330.649994</td>\n",
              "      <td>334.000000</td>\n",
              "      <td>334.000000</td>\n",
              "      <td>21500100</td>\n",
              "    </tr>\n",
              "    <tr>\n",
              "      <th>1257</th>\n",
              "      <td>11/4/2021</td>\n",
              "      <td>332.890015</td>\n",
              "      <td>336.540009</td>\n",
              "      <td>329.510010</td>\n",
              "      <td>336.440002</td>\n",
              "      <td>336.440002</td>\n",
              "      <td>23992200</td>\n",
              "    </tr>\n",
              "    <tr>\n",
              "      <th>1258</th>\n",
              "      <td>11/5/2021</td>\n",
              "      <td>338.510010</td>\n",
              "      <td>338.790009</td>\n",
              "      <td>334.420013</td>\n",
              "      <td>336.059998</td>\n",
              "      <td>336.059998</td>\n",
              "      <td>22564000</td>\n",
              "    </tr>\n",
              "  </tbody>\n",
              "</table>\n",
              "<p>1259 rows × 7 columns</p>\n",
              "</div>\n",
              "      <button class=\"colab-df-convert\" onclick=\"convertToInteractive('df-00ca3ec0-a5df-4f08-9f9b-a27a6a353d55')\"\n",
              "              title=\"Convert this dataframe to an interactive table.\"\n",
              "              style=\"display:none;\">\n",
              "        \n",
              "  <svg xmlns=\"http://www.w3.org/2000/svg\" height=\"24px\"viewBox=\"0 0 24 24\"\n",
              "       width=\"24px\">\n",
              "    <path d=\"M0 0h24v24H0V0z\" fill=\"none\"/>\n",
              "    <path d=\"M18.56 5.44l.94 2.06.94-2.06 2.06-.94-2.06-.94-.94-2.06-.94 2.06-2.06.94zm-11 1L8.5 8.5l.94-2.06 2.06-.94-2.06-.94L8.5 2.5l-.94 2.06-2.06.94zm10 10l.94 2.06.94-2.06 2.06-.94-2.06-.94-.94-2.06-.94 2.06-2.06.94z\"/><path d=\"M17.41 7.96l-1.37-1.37c-.4-.4-.92-.59-1.43-.59-.52 0-1.04.2-1.43.59L10.3 9.45l-7.72 7.72c-.78.78-.78 2.05 0 2.83L4 21.41c.39.39.9.59 1.41.59.51 0 1.02-.2 1.41-.59l7.78-7.78 2.81-2.81c.8-.78.8-2.07 0-2.86zM5.41 20L4 18.59l7.72-7.72 1.47 1.35L5.41 20z\"/>\n",
              "  </svg>\n",
              "      </button>\n",
              "      \n",
              "  <style>\n",
              "    .colab-df-container {\n",
              "      display:flex;\n",
              "      flex-wrap:wrap;\n",
              "      gap: 12px;\n",
              "    }\n",
              "\n",
              "    .colab-df-convert {\n",
              "      background-color: #E8F0FE;\n",
              "      border: none;\n",
              "      border-radius: 50%;\n",
              "      cursor: pointer;\n",
              "      display: none;\n",
              "      fill: #1967D2;\n",
              "      height: 32px;\n",
              "      padding: 0 0 0 0;\n",
              "      width: 32px;\n",
              "    }\n",
              "\n",
              "    .colab-df-convert:hover {\n",
              "      background-color: #E2EBFA;\n",
              "      box-shadow: 0px 1px 2px rgba(60, 64, 67, 0.3), 0px 1px 3px 1px rgba(60, 64, 67, 0.15);\n",
              "      fill: #174EA6;\n",
              "    }\n",
              "\n",
              "    [theme=dark] .colab-df-convert {\n",
              "      background-color: #3B4455;\n",
              "      fill: #D2E3FC;\n",
              "    }\n",
              "\n",
              "    [theme=dark] .colab-df-convert:hover {\n",
              "      background-color: #434B5C;\n",
              "      box-shadow: 0px 1px 3px 1px rgba(0, 0, 0, 0.15);\n",
              "      filter: drop-shadow(0px 1px 2px rgba(0, 0, 0, 0.3));\n",
              "      fill: #FFFFFF;\n",
              "    }\n",
              "  </style>\n",
              "\n",
              "      <script>\n",
              "        const buttonEl =\n",
              "          document.querySelector('#df-00ca3ec0-a5df-4f08-9f9b-a27a6a353d55 button.colab-df-convert');\n",
              "        buttonEl.style.display =\n",
              "          google.colab.kernel.accessAllowed ? 'block' : 'none';\n",
              "\n",
              "        async function convertToInteractive(key) {\n",
              "          const element = document.querySelector('#df-00ca3ec0-a5df-4f08-9f9b-a27a6a353d55');\n",
              "          const dataTable =\n",
              "            await google.colab.kernel.invokeFunction('convertToInteractive',\n",
              "                                                     [key], {});\n",
              "          if (!dataTable) return;\n",
              "\n",
              "          const docLinkHtml = 'Like what you see? Visit the ' +\n",
              "            '<a target=\"_blank\" href=https://colab.research.google.com/notebooks/data_table.ipynb>data table notebook</a>'\n",
              "            + ' to learn more about interactive tables.';\n",
              "          element.innerHTML = '';\n",
              "          dataTable['output_type'] = 'display_data';\n",
              "          await google.colab.output.renderOutput(dataTable, element);\n",
              "          const docLink = document.createElement('div');\n",
              "          docLink.innerHTML = docLinkHtml;\n",
              "          element.appendChild(docLink);\n",
              "        }\n",
              "      </script>\n",
              "    </div>\n",
              "  </div>\n",
              "  "
            ]
          },
          "metadata": {}
        }
      ]
    },
    {
      "cell_type": "code",
      "source": [
        "# Part 2 - Building the RNN\n",
        "# Building a robust stacked LSTM with dropout regularization\n",
        "\n",
        "# Importing the Keras libraries and packages\n",
        "from keras.models import Sequential\n",
        "from keras.layers import Dense\n",
        "from keras.layers import LSTM\n",
        "from keras.layers import Dropout"
      ],
      "metadata": {
        "id": "Gyt3x9OyPr0h"
      },
      "id": "Gyt3x9OyPr0h",
      "execution_count": null,
      "outputs": []
    },
    {
      "cell_type": "code",
      "source": [
        "# Initialising the RNN\n",
        "# Regression is when you predict a continuous value\n",
        "regressor = Sequential()"
      ],
      "metadata": {
        "id": "mPMM4xekPtrr"
      },
      "id": "mPMM4xekPtrr",
      "execution_count": null,
      "outputs": []
    },
    {
      "cell_type": "code",
      "source": [
        "# Adding the first LSTM layer and some Dropout regularisation\n",
        "# 'units' is the number of LSTM Memory Cells (Neurons) for higher dimensionality\n",
        "# 'return_sequences = True' because we will add more stacked LSTM Layers\n",
        "# 'input_shape' of x_train\n",
        "regressor.add(LSTM(units = 50, return_sequences = True, input_shape = (X_train.shape[1], 1)))\n",
        "# 20% of Neurons will be ignored (10 out of 50 Neurons) to prevent Overfitting\n",
        "regressor.add(Dropout(0.2))"
      ],
      "metadata": {
        "id": "jEk8fjzEPvgz"
      },
      "id": "jEk8fjzEPvgz",
      "execution_count": null,
      "outputs": []
    },
    {
      "cell_type": "code",
      "source": [
        "# Adding a second LSTM layer and some Dropout regularisation\n",
        "# Not need to specify input_shape for second Layer, it knows that we have 50 Neurons from the previous layer\n",
        "regressor.add(LSTM(units = 50, return_sequences = True))\n",
        "regressor.add(Dropout(0.2))"
      ],
      "metadata": {
        "id": "9TCJPkytPyEa"
      },
      "id": "9TCJPkytPyEa",
      "execution_count": null,
      "outputs": []
    },
    {
      "cell_type": "code",
      "source": [
        "# Adding a third LSTM layer and some Dropout regularisation\n",
        "regressor.add(LSTM(units = 50, return_sequences = True))\n",
        "regressor.add(Dropout(0.2))"
      ],
      "metadata": {
        "id": "NHfh8lWEP6X5"
      },
      "id": "NHfh8lWEP6X5",
      "execution_count": null,
      "outputs": []
    },
    {
      "cell_type": "code",
      "source": [
        "# Adding a fourth LSTM layer and some Dropout regularisation\n",
        "# This is the last LSTM Layer. 'return_sequences = false' by default so we leave it out.\n",
        "regressor.add(LSTM(units = 50))\n",
        "regressor.add(Dropout(0.2))"
      ],
      "metadata": {
        "id": "V1VLwxqkP8Oh"
      },
      "id": "V1VLwxqkP8Oh",
      "execution_count": null,
      "outputs": []
    },
    {
      "cell_type": "code",
      "source": [
        "# Adding the output layer\n",
        "# 'units = 1' because Output layer has one dimension\n",
        "regressor.add(Dense(units = 1))"
      ],
      "metadata": {
        "id": "ZugV7tYKP-Ar"
      },
      "id": "ZugV7tYKP-Ar",
      "execution_count": null,
      "outputs": []
    },
    {
      "cell_type": "code",
      "source": [
        "# Compiling the RNN\n",
        "# Keras documentation recommends 'RMSprop' as a good optimizer for RNNs\n",
        "# Trial and error suggests that 'adam' optimizer is a good choice\n",
        "# loss = 'mean_squared_error' which is good for Regression vs. 'Binary Cross Entropy' previously used for Classification\n",
        "regressor.compile(optimizer = 'adam', loss = 'mean_squared_error')"
      ],
      "metadata": {
        "id": "sUcCmODsQAw2"
      },
      "id": "sUcCmODsQAw2",
      "execution_count": null,
      "outputs": []
    },
    {
      "cell_type": "code",
      "source": [
        "# Fitting the RNN to the Training set\n",
        "# 'X_train' Independent variables\n",
        "# 'y_train' Output Truths that we compare X_train to.\n",
        "regressor.fit(X_train, y_train, epochs = 100, batch_size = 32)"
      ],
      "metadata": {
        "colab": {
          "base_uri": "https://localhost:8080/"
        },
        "id": "Y9kbwodCQCkq",
        "outputId": "e205328c-62e4-4608-9b7c-607c7cc633b5"
      },
      "id": "Y9kbwodCQCkq",
      "execution_count": null,
      "outputs": [
        {
          "output_type": "stream",
          "name": "stdout",
          "text": [
            "Epoch 1/100\n",
            "38/38 [==============================] - 17s 175ms/step - loss: 0.0263\n",
            "Epoch 2/100\n",
            "38/38 [==============================] - 6s 159ms/step - loss: 0.0026\n",
            "Epoch 3/100\n",
            "38/38 [==============================] - 5s 137ms/step - loss: 0.0027\n",
            "Epoch 4/100\n",
            "38/38 [==============================] - 6s 166ms/step - loss: 0.0026\n",
            "Epoch 5/100\n",
            "38/38 [==============================] - 5s 134ms/step - loss: 0.0024\n",
            "Epoch 6/100\n",
            "38/38 [==============================] - 6s 168ms/step - loss: 0.0022\n",
            "Epoch 7/100\n",
            "38/38 [==============================] - 5s 135ms/step - loss: 0.0026\n",
            "Epoch 8/100\n",
            "38/38 [==============================] - 7s 196ms/step - loss: 0.0023\n",
            "Epoch 9/100\n",
            "38/38 [==============================] - 5s 137ms/step - loss: 0.0020\n",
            "Epoch 10/100\n",
            "38/38 [==============================] - 5s 136ms/step - loss: 0.0019\n",
            "Epoch 11/100\n",
            "38/38 [==============================] - 6s 167ms/step - loss: 0.0019\n",
            "Epoch 12/100\n",
            "38/38 [==============================] - 6s 151ms/step - loss: 0.0020\n",
            "Epoch 13/100\n",
            "38/38 [==============================] - 6s 170ms/step - loss: 0.0020\n",
            "Epoch 14/100\n",
            "38/38 [==============================] - 5s 138ms/step - loss: 0.0023\n",
            "Epoch 15/100\n",
            "38/38 [==============================] - 8s 206ms/step - loss: 0.0019\n",
            "Epoch 16/100\n",
            "38/38 [==============================] - 6s 169ms/step - loss: 0.0025\n",
            "Epoch 17/100\n",
            "38/38 [==============================] - 7s 172ms/step - loss: 0.0018\n",
            "Epoch 18/100\n",
            "38/38 [==============================] - 5s 137ms/step - loss: 0.0017\n",
            "Epoch 19/100\n",
            "38/38 [==============================] - 6s 155ms/step - loss: 0.0016\n",
            "Epoch 20/100\n",
            "38/38 [==============================] - 6s 149ms/step - loss: 0.0017\n",
            "Epoch 21/100\n",
            "38/38 [==============================] - 6s 159ms/step - loss: 0.0017\n",
            "Epoch 22/100\n",
            "38/38 [==============================] - 7s 183ms/step - loss: 0.0018\n",
            "Epoch 23/100\n",
            "38/38 [==============================] - 5s 140ms/step - loss: 0.0016\n",
            "Epoch 24/100\n",
            "38/38 [==============================] - 7s 173ms/step - loss: 0.0016\n",
            "Epoch 25/100\n",
            "38/38 [==============================] - 5s 140ms/step - loss: 0.0015\n",
            "Epoch 26/100\n",
            "38/38 [==============================] - 6s 171ms/step - loss: 0.0016\n",
            "Epoch 27/100\n",
            "38/38 [==============================] - 5s 141ms/step - loss: 0.0016\n",
            "Epoch 28/100\n",
            "38/38 [==============================] - 6s 171ms/step - loss: 0.0015\n",
            "Epoch 29/100\n",
            "38/38 [==============================] - 7s 171ms/step - loss: 0.0017\n",
            "Epoch 30/100\n",
            "38/38 [==============================] - 5s 140ms/step - loss: 0.0014\n",
            "Epoch 31/100\n",
            "38/38 [==============================] - 7s 172ms/step - loss: 0.0015\n",
            "Epoch 32/100\n",
            "38/38 [==============================] - 5s 139ms/step - loss: 0.0014\n",
            "Epoch 33/100\n",
            "38/38 [==============================] - 6s 170ms/step - loss: 0.0015\n",
            "Epoch 34/100\n",
            "38/38 [==============================] - 5s 142ms/step - loss: 0.0015\n",
            "Epoch 35/100\n",
            "38/38 [==============================] - 7s 188ms/step - loss: 0.0015\n",
            "Epoch 36/100\n",
            "38/38 [==============================] - 6s 159ms/step - loss: 0.0014\n",
            "Epoch 37/100\n",
            "38/38 [==============================] - 5s 143ms/step - loss: 0.0012\n",
            "Epoch 38/100\n",
            "38/38 [==============================] - 6s 167ms/step - loss: 0.0012\n",
            "Epoch 39/100\n",
            "38/38 [==============================] - 5s 140ms/step - loss: 0.0012\n",
            "Epoch 40/100\n",
            "38/38 [==============================] - 6s 171ms/step - loss: 0.0013\n",
            "Epoch 41/100\n",
            "38/38 [==============================] - 5s 141ms/step - loss: 0.0012\n",
            "Epoch 42/100\n",
            "38/38 [==============================] - 8s 208ms/step - loss: 0.0013\n",
            "Epoch 43/100\n",
            "38/38 [==============================] - 5s 139ms/step - loss: 0.0012\n",
            "Epoch 44/100\n",
            "38/38 [==============================] - 6s 149ms/step - loss: 0.0011\n",
            "Epoch 45/100\n",
            "38/38 [==============================] - 6s 159ms/step - loss: 0.0011\n",
            "Epoch 46/100\n",
            "38/38 [==============================] - 5s 140ms/step - loss: 0.0013\n",
            "Epoch 47/100\n",
            "38/38 [==============================] - 6s 171ms/step - loss: 0.0011\n",
            "Epoch 48/100\n",
            "38/38 [==============================] - 5s 141ms/step - loss: 0.0013\n",
            "Epoch 49/100\n",
            "38/38 [==============================] - 8s 208ms/step - loss: 0.0012\n",
            "Epoch 50/100\n",
            "38/38 [==============================] - 5s 139ms/step - loss: 0.0012\n",
            "Epoch 51/100\n",
            "38/38 [==============================] - 6s 172ms/step - loss: 0.0011\n",
            "Epoch 52/100\n",
            "38/38 [==============================] - 5s 142ms/step - loss: 9.2215e-04\n",
            "Epoch 53/100\n",
            "38/38 [==============================] - 6s 154ms/step - loss: 0.0013\n",
            "Epoch 54/100\n",
            "38/38 [==============================] - 6s 158ms/step - loss: 0.0011\n",
            "Epoch 55/100\n",
            "38/38 [==============================] - 7s 178ms/step - loss: 0.0011\n",
            "Epoch 56/100\n",
            "38/38 [==============================] - 7s 174ms/step - loss: 0.0012\n",
            "Epoch 57/100\n",
            "38/38 [==============================] - 5s 141ms/step - loss: 0.0010\n",
            "Epoch 58/100\n",
            "38/38 [==============================] - 7s 172ms/step - loss: 0.0010\n",
            "Epoch 59/100\n",
            "38/38 [==============================] - 5s 141ms/step - loss: 0.0011\n",
            "Epoch 60/100\n",
            "38/38 [==============================] - 7s 174ms/step - loss: 0.0011\n",
            "Epoch 61/100\n",
            "38/38 [==============================] - 5s 142ms/step - loss: 0.0010\n",
            "Epoch 62/100\n",
            "38/38 [==============================] - 8s 209ms/step - loss: 8.6745e-04\n",
            "Epoch 63/100\n",
            "38/38 [==============================] - 5s 142ms/step - loss: 0.0011\n",
            "Epoch 64/100\n",
            "38/38 [==============================] - 6s 156ms/step - loss: 9.5457e-04\n",
            "Epoch 65/100\n",
            "38/38 [==============================] - 6s 158ms/step - loss: 0.0010\n",
            "Epoch 66/100\n",
            "38/38 [==============================] - 5s 143ms/step - loss: 9.9871e-04\n",
            "Epoch 67/100\n",
            "38/38 [==============================] - 7s 169ms/step - loss: 0.0010\n",
            "Epoch 68/100\n",
            "38/38 [==============================] - 5s 141ms/step - loss: 0.0011\n",
            "Epoch 69/100\n",
            "38/38 [==============================] - 8s 204ms/step - loss: 9.9668e-04\n",
            "Epoch 70/100\n",
            "38/38 [==============================] - 5s 143ms/step - loss: 9.1523e-04\n",
            "Epoch 71/100\n",
            "38/38 [==============================] - 7s 173ms/step - loss: 0.0011\n",
            "Epoch 72/100\n",
            "38/38 [==============================] - 5s 141ms/step - loss: 9.3977e-04\n",
            "Epoch 73/100\n",
            "38/38 [==============================] - 6s 170ms/step - loss: 8.7096e-04\n",
            "Epoch 74/100\n",
            "38/38 [==============================] - 6s 143ms/step - loss: 0.0011\n",
            "Epoch 75/100\n",
            "38/38 [==============================] - 7s 182ms/step - loss: 9.3483e-04\n",
            "Epoch 76/100\n",
            "38/38 [==============================] - 6s 167ms/step - loss: 9.7653e-04\n",
            "Epoch 77/100\n",
            "38/38 [==============================] - 5s 143ms/step - loss: 9.7984e-04\n",
            "Epoch 78/100\n",
            "38/38 [==============================] - 7s 174ms/step - loss: 0.0010\n",
            "Epoch 79/100\n",
            "38/38 [==============================] - 5s 142ms/step - loss: 0.0011\n",
            "Epoch 80/100\n",
            "38/38 [==============================] - 6s 172ms/step - loss: 8.1366e-04\n",
            "Epoch 81/100\n",
            "38/38 [==============================] - 5s 141ms/step - loss: 8.2128e-04\n",
            "Epoch 82/100\n",
            "38/38 [==============================] - 8s 205ms/step - loss: 9.4721e-04\n",
            "Epoch 83/100\n",
            "38/38 [==============================] - 5s 142ms/step - loss: 8.2084e-04\n",
            "Epoch 84/100\n",
            "38/38 [==============================] - 7s 173ms/step - loss: 8.4383e-04\n",
            "Epoch 85/100\n",
            "38/38 [==============================] - 6s 146ms/step - loss: 7.5459e-04\n",
            "Epoch 86/100\n",
            "38/38 [==============================] - 6s 161ms/step - loss: 9.0754e-04\n",
            "Epoch 87/100\n",
            "38/38 [==============================] - 6s 149ms/step - loss: 8.7393e-04\n",
            "Epoch 88/100\n",
            "38/38 [==============================] - 7s 177ms/step - loss: 8.7123e-04\n",
            "Epoch 89/100\n",
            "38/38 [==============================] - 7s 170ms/step - loss: 0.0010\n",
            "Epoch 90/100\n",
            "38/38 [==============================] - 5s 142ms/step - loss: 8.1690e-04\n",
            "Epoch 91/100\n",
            "38/38 [==============================] - 7s 176ms/step - loss: 8.2153e-04\n",
            "Epoch 92/100\n",
            "38/38 [==============================] - 5s 139ms/step - loss: 7.7840e-04\n",
            "Epoch 93/100\n",
            "38/38 [==============================] - 7s 173ms/step - loss: 8.1034e-04\n",
            "Epoch 94/100\n",
            "38/38 [==============================] - 5s 140ms/step - loss: 7.8107e-04\n",
            "Epoch 95/100\n",
            "38/38 [==============================] - 8s 206ms/step - loss: 8.4939e-04\n",
            "Epoch 96/100\n",
            "38/38 [==============================] - 5s 144ms/step - loss: 8.4066e-04\n",
            "Epoch 97/100\n",
            "38/38 [==============================] - 7s 173ms/step - loss: 8.5665e-04\n",
            "Epoch 98/100\n",
            "38/38 [==============================] - 5s 141ms/step - loss: 8.4508e-04\n",
            "Epoch 99/100\n",
            "38/38 [==============================] - 6s 153ms/step - loss: 7.0017e-04\n",
            "Epoch 100/100\n",
            "38/38 [==============================] - 6s 154ms/step - loss: 7.2253e-04\n"
          ]
        },
        {
          "output_type": "execute_result",
          "data": {
            "text/plain": [
              "<keras.callbacks.History at 0x7f8c34dfc910>"
            ]
          },
          "metadata": {},
          "execution_count": 42
        }
      ]
    },
    {
      "cell_type": "code",
      "source": [
        "# Part 3 - Making the predictions and visualising the results\n",
        "\n",
        "# Getting the real stock price of 2017\n",
        "dataset_test = pd.read_csv(r\"MSFT-1.csv\")\n",
        "real_stock_price = dataset_test.iloc[:, 1:2].values"
      ],
      "metadata": {
        "id": "p83BhecVSlQB"
      },
      "id": "p83BhecVSlQB",
      "execution_count": null,
      "outputs": []
    },
    {
      "cell_type": "code",
      "source": [
        "# Getting the predicted stock price of 2017\n",
        "# We need 60 previous inputs for each day of the Test_set in 2017\n",
        "# Combine 'dataset_train' and 'dataset_test'\n",
        "# 'axis = 0' for Vertical Concatenation to add rows to the bottom\n",
        "dataset_total = pd.concat((dataset_train['Open'], dataset_test['Open']), axis = 0)\n",
        "# Extract Stock Prices for Test time period, plus 60 days previous\n",
        "inputs = dataset_total[len(dataset_total) - len(dataset_test) - 60:].values"
      ],
      "metadata": {
        "id": "7OSSbFQfUa-U"
      },
      "id": "7OSSbFQfUa-U",
      "execution_count": null,
      "outputs": []
    },
    {
      "cell_type": "code",
      "source": [
        "# 'reshape' function to get it into a NumPy format\n",
        "inputs = inputs.reshape(-1,1)"
      ],
      "metadata": {
        "id": "gt4Su9MOUbsR"
      },
      "id": "gt4Su9MOUbsR",
      "execution_count": null,
      "outputs": []
    },
    {
      "cell_type": "code",
      "source": [
        "# Inputs need to be scaled to match the model trained on Scaled Feature\n",
        "inputs = sc.transform(inputs)"
      ],
      "metadata": {
        "id": "ZiDtwaIqUdbO"
      },
      "id": "ZiDtwaIqUdbO",
      "execution_count": null,
      "outputs": []
    },
    {
      "cell_type": "code",
      "source": [
        "# The following is pasted from above and modified for Testing, romove all 'Ys'\n",
        "X_test = []"
      ],
      "metadata": {
        "id": "nZ4J-4p0UgoQ"
      },
      "id": "nZ4J-4p0UgoQ",
      "execution_count": null,
      "outputs": []
    },
    {
      "cell_type": "code",
      "source": [
        "for i in range(60, 80):\n",
        "    X_test.append(inputs[i-60:i, 0])"
      ],
      "metadata": {
        "id": "VUSIMf_FUjFH"
      },
      "id": "VUSIMf_FUjFH",
      "execution_count": null,
      "outputs": []
    },
    {
      "cell_type": "code",
      "source": [
        "X_test = np.array(X_test)"
      ],
      "metadata": {
        "id": "tRfSlN4zUjsT"
      },
      "id": "tRfSlN4zUjsT",
      "execution_count": null,
      "outputs": []
    },
    {
      "cell_type": "code",
      "source": [
        "# We need a 3D input so add another dimension\n",
        "X_test = np.reshape(X_test, (X_test.shape[0], X_test.shape[1], 1))\n",
        "# Predict the Stock Price\n",
        "predicted_stock_price = regressor.predict(X_test)\n",
        "# We need to inverse the scaling of our prediction to get a Dollar amount\n",
        "predicted_stock_price = sc.inverse_transform(predicted_stock_price)"
      ],
      "metadata": {
        "colab": {
          "base_uri": "https://localhost:8080/"
        },
        "id": "2Xw_ndCmUmhm",
        "outputId": "aec0f0f5-b7d4-4777-a385-e64ab2bd9abb"
      },
      "id": "2Xw_ndCmUmhm",
      "execution_count": null,
      "outputs": [
        {
          "output_type": "stream",
          "name": "stdout",
          "text": [
            "1/1 [==============================] - 3s 3s/step\n"
          ]
        }
      ]
    },
    {
      "cell_type": "code",
      "source": [
        "# Visualizing the data\n",
        "plt.figure(figsize=(14,10))\n",
        "plt.plot(Low_data,c=\"red\")\n",
        "plt.title(\"Microsoft Stock Prices\",fontsize=16)\n",
        "plt.xlabel(\"Days\",fontsize=16)\n",
        "plt.ylabel(\"Scaled Price\",fontsize=16)\n",
        "plt.grid()\n",
        "plt.show()"
      ],
      "metadata": {
        "colab": {
          "base_uri": "https://localhost:8080/",
          "height": 628
        },
        "id": "6yO4pjOKUoW4",
        "outputId": "ce5bdf5d-ea88-4808-deb9-9e248cbfe9c3"
      },
      "id": "6yO4pjOKUoW4",
      "execution_count": null,
      "outputs": [
        {
          "output_type": "display_data",
          "data": {
            "text/plain": [
              "<Figure size 1008x720 with 1 Axes>"
            ],
            "image/png": "[encoded data removed]"
          },
          "metadata": {
            "needs_background": "light"
          }
        }
      ]
    },
    {
      "cell_type": "markdown",
      "id": "8ea6ad51",
      "metadata": {
        "id": "8ea6ad51"
      },
      "source": [
        "\n",
        "\n",
        "## Result\n",
        "* Here the following of our simulations on the cross validation dataset, it appears that a 4-layered neural network, using 'Adam' as the optimizer along with a learning rate of 0.01, performs best. We proceed to introduce dropout in the model, and use the model to predict for the test set.\n",
        "\n",
        "* Here the test predictions (submitted to Kaggle) generated by our model predicts with an accuracy score of 97.600%, which places us at the top 55 percentile of the competition."
      ]
    },
    {
      "cell_type": "markdown",
      "source": [
        "Building RNN using LSTM Architecture\n"
      ],
      "metadata": {
        "id": "OVYwUhx5-h_D"
      },
      "id": "OVYwUhx5-h_D"
    },
    {
      "cell_type": "code",
      "source": [
        "#Normalizing data\n",
        "scaling = MinMaxScaler(feature_range=(0,1))\n",
        "train_ScaledData = scaling.fit_transform(train)\n",
        "test_ScaledData = scaling.transform(test)"
      ],
      "metadata": {
        "id": "vAL3eWfj-jGX"
      },
      "id": "vAL3eWfj-jGX",
      "execution_count": null,
      "outputs": []
    },
    {
      "cell_type": "code",
      "source": [
        "# Function to create a 60 day window for train and test datasets\n",
        "def data(dataset, time_step=1):\n",
        "    dataX, dataY = [], []\n",
        "    for i in range(len(dataset)-time_step-1):\n",
        "        a = dataset[i:(i+time_step), 0]\n",
        "        dataX.append(a)\n",
        "        dataY.append(dataset[i + time_step, 0])\n",
        "    return np.array(dataX), np.array(dataY)"
      ],
      "metadata": {
        "id": "Rjj5zxXz-t61"
      },
      "id": "Rjj5zxXz-t61",
      "execution_count": null,
      "outputs": []
    },
    {
      "cell_type": "code",
      "source": [
        "X_train, Y_train = data(train_ScaledData, 60)"
      ],
      "metadata": {
        "id": "8L47RDiK-vSD"
      },
      "id": "8L47RDiK-vSD",
      "execution_count": null,
      "outputs": []
    },
    {
      "cell_type": "code",
      "source": [
        "X_test, Y_test = data(test_ScaledData, 60)"
      ],
      "metadata": {
        "id": "ARkUdQ8G-wu6"
      },
      "id": "ARkUdQ8G-wu6",
      "execution_count": null,
      "outputs": []
    },
    {
      "cell_type": "code",
      "source": [
        "#Reshaping for RNN\n",
        "x_train =X_train.reshape(X_train.shape[0],X_train.shape[1] , 1)\n",
        "x_test = X_test.reshape(X_test.shape[0],X_test.shape[1] , 1)"
      ],
      "metadata": {
        "id": "0aIl6aBa-1XL"
      },
      "id": "0aIl6aBa-1XL",
      "execution_count": null,
      "outputs": []
    },
    {
      "cell_type": "code",
      "source": [
        "x_train.shape"
      ],
      "metadata": {
        "colab": {
          "base_uri": "https://localhost:8080/"
        },
        "id": "ve1AXiNL-3Ls",
        "outputId": "1e5139ff-5b98-4b77-fca9-ce5560a1bfc0"
      },
      "id": "ve1AXiNL-3Ls",
      "execution_count": null,
      "outputs": [
        {
          "output_type": "execute_result",
          "data": {
            "text/plain": [
              "(946, 60, 1)"
            ]
          },
          "metadata": {},
          "execution_count": 25
        }
      ]
    },
    {
      "cell_type": "code",
      "source": [
        "x_test.shape"
      ],
      "metadata": {
        "colab": {
          "base_uri": "https://localhost:8080/"
        },
        "id": "w3LfkMVH-4e0",
        "outputId": "f8fa742b-2c75-4ff1-8dd3-9ef3c595b141"
      },
      "id": "w3LfkMVH-4e0",
      "execution_count": null,
      "outputs": [
        {
          "output_type": "execute_result",
          "data": {
            "text/plain": [
              "(191, 60, 1)"
            ]
          },
          "metadata": {},
          "execution_count": 26
        }
      ]
    },
    {
      "cell_type": "code",
      "source": [
        "Y_train.shape"
      ],
      "metadata": {
        "colab": {
          "base_uri": "https://localhost:8080/"
        },
        "id": "OyRklqQW-52U",
        "outputId": "d8d6a8ee-d482-43f9-9a33-f39b932879ef"
      },
      "id": "OyRklqQW-52U",
      "execution_count": null,
      "outputs": [
        {
          "output_type": "execute_result",
          "data": {
            "text/plain": [
              "(946,)"
            ]
          },
          "metadata": {},
          "execution_count": 27
        }
      ]
    },
    {
      "cell_type": "markdown",
      "source": [
        "Building RNN using LSTM Architecture\n"
      ],
      "metadata": {
        "id": "Y66HLdfj-7M8"
      },
      "id": "Y66HLdfj-7M8"
    },
    {
      "cell_type": "code",
      "source": [
        "model = Sequential([\n",
        "    keras.layers.LSTM(256, return_sequences=True, input_shape=[x_train.shape[1], 1],\n",
        "                     dropout=0.2),\n",
        "    keras.layers.LSTM(256, return_sequences=True,\n",
        "                     dropout=0.2),\n",
        "    keras.layers.LSTM(256, return_sequences=True,\n",
        "                     dropout=0.2),\n",
        "    keras.layers.LSTM(256),\n",
        "    keras.layers.Dense(1)\n",
        "])"
      ],
      "metadata": {
        "id": "0QZaixoj-708"
      },
      "id": "0QZaixoj-708",
      "execution_count": null,
      "outputs": []
    },
    {
      "cell_type": "code",
      "source": [
        "model.compile(loss='mean_squared_error', optimizer='adam')"
      ],
      "metadata": {
        "id": "-pHlY9-V_AdM"
      },
      "id": "-pHlY9-V_AdM",
      "execution_count": null,
      "outputs": []
    },
    {
      "cell_type": "code",
      "source": [
        "history = model.fit(x_train, Y_train, epochs=80,\n",
        "                    validation_split=0.1, batch_size = 32)\n",
        "model.save('rnn.h4')"
      ],
      "metadata": {
        "colab": {
          "base_uri": "https://localhost:8080/"
        },
        "id": "6XucyfVz_CLZ",
        "outputId": "e8f73a69-9739-4b86-cd39-ffff27cf300c"
      },
      "id": "6XucyfVz_CLZ",
      "execution_count": null,
      "outputs": [
        {
          "output_type": "stream",
          "name": "stdout",
          "text": [
            "Epoch 1/80\n",
            "27/27 [==============================] - 40s 1s/step - loss: 0.0652 - val_loss: 0.0023\n",
            "Epoch 2/80\n",
            "27/27 [==============================] - 32s 1s/step - loss: 0.0039 - val_loss: 0.0025\n",
            "Epoch 3/80\n",
            "27/27 [==============================] - 32s 1s/step - loss: 0.0022 - val_loss: 0.0041\n",
            "Epoch 4/80\n",
            "27/27 [==============================] - 30s 1s/step - loss: 0.0029 - val_loss: 0.0043\n",
            "Epoch 5/80\n",
            "27/27 [==============================] - 37s 1s/step - loss: 0.0023 - val_loss: 0.0124\n",
            "Epoch 6/80\n",
            "27/27 [==============================] - 38s 1s/step - loss: 0.0023 - val_loss: 0.0063\n",
            "Epoch 7/80\n",
            "27/27 [==============================] - 41s 1s/step - loss: 0.0024 - val_loss: 0.0022\n",
            "Epoch 8/80\n",
            "27/27 [==============================] - 36s 1s/step - loss: 0.0025 - val_loss: 0.0073\n",
            "Epoch 9/80\n",
            "27/27 [==============================] - 37s 1s/step - loss: 0.0024 - val_loss: 0.0093\n",
            "Epoch 10/80\n",
            "27/27 [==============================] - 42s 2s/step - loss: 0.0021 - val_loss: 0.0024\n",
            "Epoch 11/80\n",
            "27/27 [==============================] - 37s 1s/step - loss: 0.0023 - val_loss: 0.0040\n",
            "Epoch 12/80\n",
            "27/27 [==============================] - 41s 2s/step - loss: 0.0021 - val_loss: 0.0082\n",
            "Epoch 13/80\n",
            "27/27 [==============================] - 33s 1s/step - loss: 0.0035 - val_loss: 0.0114\n",
            "Epoch 14/80\n",
            "27/27 [==============================] - 31s 1s/step - loss: 0.0023 - val_loss: 0.0144\n",
            "Epoch 15/80\n",
            "27/27 [==============================] - 30s 1s/step - loss: 0.0025 - val_loss: 0.0024\n",
            "Epoch 16/80\n",
            "27/27 [==============================] - 32s 1s/step - loss: 0.0020 - val_loss: 0.0071\n",
            "Epoch 17/80\n",
            "27/27 [==============================] - 31s 1s/step - loss: 0.0018 - val_loss: 0.0045\n",
            "Epoch 18/80\n",
            "27/27 [==============================] - 31s 1s/step - loss: 0.0020 - val_loss: 0.0059\n",
            "Epoch 19/80\n",
            "27/27 [==============================] - 31s 1s/step - loss: 0.0027 - val_loss: 0.0454\n",
            "Epoch 20/80\n",
            "27/27 [==============================] - 32s 1s/step - loss: 0.0025 - val_loss: 0.0162\n",
            "Epoch 21/80\n",
            "27/27 [==============================] - 30s 1s/step - loss: 0.0019 - val_loss: 0.0031\n",
            "Epoch 22/80\n",
            "27/27 [==============================] - 32s 1s/step - loss: 0.0028 - val_loss: 0.0015\n",
            "Epoch 23/80\n",
            "27/27 [==============================] - 32s 1s/step - loss: 0.0023 - val_loss: 0.0140\n",
            "Epoch 24/80\n",
            "27/27 [==============================] - 30s 1s/step - loss: 0.0023 - val_loss: 0.0054\n",
            "Epoch 25/80\n",
            "27/27 [==============================] - 32s 1s/step - loss: 0.0018 - val_loss: 0.0064\n",
            "Epoch 26/80\n",
            "27/27 [==============================] - 31s 1s/step - loss: 0.0019 - val_loss: 0.0200\n",
            "Epoch 27/80\n",
            "27/27 [==============================] - 31s 1s/step - loss: 0.0020 - val_loss: 0.0456\n",
            "Epoch 28/80\n",
            "27/27 [==============================] - 32s 1s/step - loss: 0.0023 - val_loss: 0.0086\n",
            "Epoch 29/80\n",
            "27/27 [==============================] - 30s 1s/step - loss: 0.0024 - val_loss: 0.0099\n",
            "Epoch 30/80\n",
            "27/27 [==============================] - 32s 1s/step - loss: 0.0026 - val_loss: 0.0298\n",
            "Epoch 31/80\n",
            "27/27 [==============================] - 32s 1s/step - loss: 0.0033 - val_loss: 0.0052\n",
            "Epoch 32/80\n",
            "27/27 [==============================] - 30s 1s/step - loss: 0.0022 - val_loss: 0.0098\n",
            "Epoch 33/80\n",
            "27/27 [==============================] - 32s 1s/step - loss: 0.0021 - val_loss: 0.0123\n",
            "Epoch 34/80\n",
            "27/27 [==============================] - 30s 1s/step - loss: 0.0022 - val_loss: 0.0077\n",
            "Epoch 35/80\n",
            "27/27 [==============================] - 32s 1s/step - loss: 0.0023 - val_loss: 0.0099\n",
            "Epoch 36/80\n",
            "27/27 [==============================] - 32s 1s/step - loss: 0.0022 - val_loss: 0.0214\n",
            "Epoch 37/80\n",
            "27/27 [==============================] - 31s 1s/step - loss: 0.0020 - val_loss: 0.0099\n",
            "Epoch 38/80\n",
            "27/27 [==============================] - 32s 1s/step - loss: 0.0019 - val_loss: 0.0140\n",
            "Epoch 39/80\n",
            "27/27 [==============================] - 31s 1s/step - loss: 0.0020 - val_loss: 0.1122\n",
            "Epoch 40/80\n",
            "27/27 [==============================] - 31s 1s/step - loss: 0.0026 - val_loss: 0.0052\n",
            "Epoch 41/80\n",
            "27/27 [==============================] - 32s 1s/step - loss: 0.0019 - val_loss: 0.0376\n",
            "Epoch 42/80\n",
            "27/27 [==============================] - 31s 1s/step - loss: 0.0018 - val_loss: 0.0208\n",
            "Epoch 43/80\n",
            "27/27 [==============================] - 31s 1s/step - loss: 0.0017 - val_loss: 0.0171\n",
            "Epoch 44/80\n",
            "27/27 [==============================] - 32s 1s/step - loss: 0.0024 - val_loss: 0.0483\n",
            "Epoch 45/80\n",
            "27/27 [==============================] - 30s 1s/step - loss: 0.0020 - val_loss: 0.0064\n",
            "Epoch 46/80\n",
            "27/27 [==============================] - 32s 1s/step - loss: 0.0021 - val_loss: 0.0110\n",
            "Epoch 47/80\n",
            "27/27 [==============================] - 31s 1s/step - loss: 0.0019 - val_loss: 0.0097\n",
            "Epoch 48/80\n",
            "27/27 [==============================] - 31s 1s/step - loss: 0.0018 - val_loss: 0.0121\n",
            "Epoch 49/80\n",
            "27/27 [==============================] - 32s 1s/step - loss: 0.0022 - val_loss: 0.0302\n",
            "Epoch 50/80\n",
            "27/27 [==============================] - 31s 1s/step - loss: 0.0023 - val_loss: 0.0101\n",
            "Epoch 51/80\n",
            "27/27 [==============================] - 31s 1s/step - loss: 0.0018 - val_loss: 0.0137\n",
            "Epoch 52/80\n",
            "27/27 [==============================] - 31s 1s/step - loss: 0.0016 - val_loss: 0.0382\n",
            "Epoch 53/80\n",
            "27/27 [==============================] - 32s 1s/step - loss: 0.0016 - val_loss: 0.0782\n",
            "Epoch 54/80\n",
            "27/27 [==============================] - 31s 1s/step - loss: 0.0020 - val_loss: 0.0045\n",
            "Epoch 55/80\n",
            "27/27 [==============================] - 31s 1s/step - loss: 0.0022 - val_loss: 0.0091\n",
            "Epoch 56/80\n",
            "27/27 [==============================] - 31s 1s/step - loss: 0.0020 - val_loss: 0.0295\n",
            "Epoch 57/80\n",
            "27/27 [==============================] - 32s 1s/step - loss: 0.0019 - val_loss: 0.0205\n",
            "Epoch 58/80\n",
            "27/27 [==============================] - 31s 1s/step - loss: 0.0017 - val_loss: 0.0015\n",
            "Epoch 59/80\n",
            "27/27 [==============================] - 31s 1s/step - loss: 0.0024 - val_loss: 0.0448\n",
            "Epoch 60/80\n",
            "27/27 [==============================] - 31s 1s/step - loss: 0.0016 - val_loss: 0.0392\n",
            "Epoch 61/80\n",
            "27/27 [==============================] - 32s 1s/step - loss: 0.0016 - val_loss: 0.0016\n",
            "Epoch 62/80\n",
            "27/27 [==============================] - 31s 1s/step - loss: 0.0023 - val_loss: 0.0270\n",
            "Epoch 63/80\n",
            "27/27 [==============================] - 32s 1s/step - loss: 0.0019 - val_loss: 0.0157\n",
            "Epoch 64/80\n",
            "27/27 [==============================] - 32s 1s/step - loss: 0.0018 - val_loss: 0.0158\n",
            "Epoch 65/80\n",
            "27/27 [==============================] - 30s 1s/step - loss: 0.0016 - val_loss: 0.0182\n",
            "Epoch 66/80\n",
            "27/27 [==============================] - 32s 1s/step - loss: 0.0014 - val_loss: 0.0284\n",
            "Epoch 67/80\n",
            "27/27 [==============================] - 31s 1s/step - loss: 0.0013 - val_loss: 0.0381\n",
            "Epoch 68/80\n",
            "27/27 [==============================] - 32s 1s/step - loss: 0.0013 - val_loss: 0.0324\n",
            "Epoch 69/80\n",
            "27/27 [==============================] - 32s 1s/step - loss: 0.0012 - val_loss: 0.0374\n",
            "Epoch 70/80\n",
            "27/27 [==============================] - 32s 1s/step - loss: 0.0013 - val_loss: 0.0393\n",
            "Epoch 71/80\n",
            "27/27 [==============================] - 32s 1s/step - loss: 0.0011 - val_loss: 0.0187\n",
            "Epoch 72/80\n",
            "27/27 [==============================] - 32s 1s/step - loss: 0.0010 - val_loss: 0.0458\n",
            "Epoch 73/80\n",
            "27/27 [==============================] - 31s 1s/step - loss: 0.0011 - val_loss: 0.0382\n",
            "Epoch 74/80\n",
            "27/27 [==============================] - 32s 1s/step - loss: 9.7397e-04 - val_loss: 0.0447\n",
            "Epoch 75/80\n",
            "27/27 [==============================] - 31s 1s/step - loss: 9.1017e-04 - val_loss: 0.0461\n",
            "Epoch 76/80\n",
            "27/27 [==============================] - 32s 1s/step - loss: 0.0010 - val_loss: 0.0358\n",
            "Epoch 77/80\n",
            "27/27 [==============================] - 32s 1s/step - loss: 8.9549e-04 - val_loss: 0.0222\n",
            "Epoch 78/80\n",
            "27/27 [==============================] - 31s 1s/step - loss: 9.4978e-04 - val_loss: 0.0331\n",
            "Epoch 79/80\n",
            "27/27 [==============================] - 32s 1s/step - loss: 9.0896e-04 - val_loss: 0.0588\n",
            "Epoch 80/80\n",
            "27/27 [==============================] - 32s 1s/step - loss: 9.5490e-04 - val_loss: 0.0256\n"
          ]
        },
        {
          "output_type": "stream",
          "name": "stderr",
          "text": [
            "WARNING:absl:Found untraced functions such as _update_step_xla, lstm_cell_layer_call_fn, lstm_cell_layer_call_and_return_conditional_losses, lstm_cell_1_layer_call_fn, lstm_cell_1_layer_call_and_return_conditional_losses while saving (showing 5 of 9). These functions will not be directly callable after loading.\n"
          ]
        }
      ]
    },
    {
      "cell_type": "code",
      "source": [
        "y_pred = model.predict(x_test)\n",
        "y_pred = scaling.inverse_transform(y_pred)"
      ],
      "metadata": {
        "colab": {
          "base_uri": "https://localhost:8080/"
        },
        "id": "IfowKjPx_l4-",
        "outputId": "3af424b3-dea9-4381-c630-e2d1ed0a6d2c"
      },
      "id": "IfowKjPx_l4-",
      "execution_count": null,
      "outputs": [
        {
          "output_type": "stream",
          "name": "stdout",
          "text": [
            "6/6 [==============================] - 3s 203ms/step\n"
          ]
        }
      ]
    },
    {
      "cell_type": "code",
      "source": [
        "# Visualizing the data\n",
        "fig, ax = plt.subplots(figsize=(14, 14))\n",
        "plt.plot(df_close, color='red', label='actual value')\n",
        "ax.plot(range(len(Y_train)+60, len(Y_train)+60+len(y_pred)), y_pred, color='blue', label='predicted value')\n",
        "plt.legend()"
      ],
      "metadata": {
        "colab": {
          "base_uri": "https://localhost:8080/",
          "height": 829
        },
        "id": "Z2vcZyVP_nDH",
        "outputId": "3fe868c3-84a3-489f-92e9-24c58f7f64d9"
      },
      "id": "Z2vcZyVP_nDH",
      "execution_count": null,
      "outputs": [
        {
          "output_type": "execute_result",
          "data": {
            "text/plain": [
              "<matplotlib.legend.Legend at 0x7f4841712640>"
            ]
          },
          "metadata": {},
          "execution_count": 32
        },
        {
          "output_type": "display_data",
          "data": {
            "text/plain": [
              "<Figure size 1008x1008 with 1 Axes>"
            ],
            "image/png": "[encoded data removed]"
          },
          "metadata": {
            "needs_background": "light"
          }
        }
      ]
    },
    {
      "cell_type": "code",
      "source": [
        "import math\n",
        "from sklearn import metrics\n",
        "from sklearn.metrics import mean_squared_error"
      ],
      "metadata": {
        "id": "LBp9RDcKJyAe"
      },
      "id": "LBp9RDcKJyAe",
      "execution_count": null,
      "outputs": []
    },
    {
      "cell_type": "code",
      "source": [
        "train_predict=model.predict(x_train)\n",
        "\n",
        "mse = math.sqrt(mean_squared_error(Y_test, y_pred))\n",
        "print(\"The mean squares error is \", mse)"
      ],
      "metadata": {
        "colab": {
          "base_uri": "https://localhost:8080/"
        },
        "id": "XUWhSDHa_qEl",
        "outputId": "89ba9be2-3096-4392-d8a1-4fbc770eef94"
      },
      "id": "XUWhSDHa_qEl",
      "execution_count": null,
      "outputs": [
        {
          "output_type": "stream",
          "name": "stdout",
          "text": [
            "30/30 [==============================] - 7s 229ms/step\n",
            "The mean squares error is  211.46749464803904\n"
          ]
        }
      ]
    },
    {
      "cell_type": "code",
      "source": [
        "train_predict=scaling.inverse_transform(train_predict)\n",
        "math.sqrt(mean_squared_error(Y_train,train_predict))"
      ],
      "metadata": {
        "colab": {
          "base_uri": "https://localhost:8080/"
        },
        "id": "O3JoeuXh_rba",
        "outputId": "8754aac7-d9ff-48d2-f5ae-fb0bacbefda4"
      },
      "id": "O3JoeuXh_rba",
      "execution_count": null,
      "outputs": [
        {
          "output_type": "execute_result",
          "data": {
            "text/plain": [
              "119.14654794155379"
            ]
          },
          "metadata": {},
          "execution_count": 41
        }
      ]
    },
    {
      "cell_type": "markdown",
      "source": [
        "Predicting MSFT stock prices from 11/08/2021 to 11/19/2021\n"
      ],
      "metadata": {
        "id": "qrelx9lS_spd"
      },
      "id": "qrelx9lS_spd"
    },
    {
      "cell_type": "code",
      "source": [
        "x = x_test[-1]\n",
        "step = 10\n",
        "predicts = []\n",
        "for i in range(step):\n",
        "    data = np.expand_dims(x, axis=0)\n",
        "    pred = model.predict(data)\n",
        "    pred = scaling.inverse_transform(pred)\n",
        "    predicts.append(pred[0][0])\n",
        "    x = np.delete(x, 0, axis=0)\n",
        "    x = np.vstack([x, pred])\n",
        "print(predicts)"
      ],
      "metadata": {
        "colab": {
          "base_uri": "https://localhost:8080/"
        },
        "id": "WORT8UtD_t-Q",
        "outputId": "e3e1d10e-eb62-4dd6-9c19-9745fa396ad7"
      },
      "id": "WORT8UtD_t-Q",
      "execution_count": null,
      "outputs": [
        {
          "output_type": "stream",
          "name": "stdout",
          "text": [
            "1/1 [==============================] - 0s 49ms/step\n",
            "1/1 [==============================] - 0s 45ms/step\n",
            "1/1 [==============================] - 0s 45ms/step\n",
            "1/1 [==============================] - 0s 45ms/step\n",
            "1/1 [==============================] - 0s 52ms/step\n",
            "1/1 [==============================] - 0s 46ms/step\n",
            "1/1 [==============================] - 0s 45ms/step\n",
            "1/1 [==============================] - 0s 55ms/step\n",
            "1/1 [==============================] - 0s 43ms/step\n",
            "1/1 [==============================] - 0s 44ms/step\n",
            "[246.47682, 482.1061, 566.612, 605.93384, 627.671, 640.6142, 648.9267, 654.47064, 658.2395, 660.83026]\n"
          ]
        }
      ]
    },
    {
      "cell_type": "markdown",
      "source": [
        "Linear model for other columns\n"
      ],
      "metadata": {
        "id": "zqg8HwZZ_vRm"
      },
      "id": "zqg8HwZZ_vRm"
    },
    {
      "cell_type": "code",
      "source": [
        "df = pd.read_csv(r\"MSFT-1.csv\")"
      ],
      "metadata": {
        "id": "p96q-r9gLQCq"
      },
      "id": "p96q-r9gLQCq",
      "execution_count": null,
      "outputs": []
    },
    {
      "cell_type": "code",
      "source": [
        "df.head()"
      ],
      "metadata": {
        "colab": {
          "base_uri": "https://localhost:8080/",
          "height": 206
        },
        "id": "tS6MGp8rLlje",
        "outputId": "14b86ea6-6f0a-4bc8-e3cd-e8f7b7d4f7bb"
      },
      "id": "tS6MGp8rLlje",
      "execution_count": null,
      "outputs": [
        {
          "output_type": "execute_result",
          "data": {
            "text/plain": [
              "         Date       Open       High        Low      Close  Adj Close    Volume\n",
              "0   11/7/2016  59.779999  60.520000  59.779999  60.419998  55.902321  31664800\n",
              "1   11/8/2016  60.549999  60.779999  60.150002  60.470001  55.948589  22935400\n",
              "2   11/9/2016  60.000000  60.590000  59.200001  60.169998  55.671009  49632500\n",
              "3  11/10/2016  60.480000  60.490002  57.630001  58.700001  54.310928  57822400\n",
              "4  11/11/2016  58.230000  59.119999  58.009998  59.020000  54.607002  38767800"
            ],
            "text/html": [
              "\n",
              "  <div id=\"df-1d04c235-3870-4501-a3ae-92c3e147a125\">\n",
              "    <div class=\"colab-df-container\">\n",
              "      <div>\n",
              "<style scoped>\n",
              "    .dataframe tbody tr th:only-of-type {\n",
              "        vertical-align: middle;\n",
              "    }\n",
              "\n",
              "    .dataframe tbody tr th {\n",
              "        vertical-align: top;\n",
              "    }\n",
              "\n",
              "    .dataframe thead th {\n",
              "        text-align: right;\n",
              "    }\n",
              "</style>\n",
              "<table border=\"1\" class=\"dataframe\">\n",
              "  <thead>\n",
              "    <tr style=\"text-align: right;\">\n",
              "      <th></th>\n",
              "      <th>Date</th>\n",
              "      <th>Open</th>\n",
              "      <th>High</th>\n",
              "      <th>Low</th>\n",
              "      <th>Close</th>\n",
              "      <th>Adj Close</th>\n",
              "      <th>Volume</th>\n",
              "    </tr>\n",
              "  </thead>\n",
              "  <tbody>\n",
              "    <tr>\n",
              "      <th>0</th>\n",
              "      <td>11/7/2016</td>\n",
              "      <td>59.779999</td>\n",
              "      <td>60.520000</td>\n",
              "      <td>59.779999</td>\n",
              "      <td>60.419998</td>\n",
              "      <td>55.902321</td>\n",
              "      <td>31664800</td>\n",
              "    </tr>\n",
              "    <tr>\n",
              "      <th>1</th>\n",
              "      <td>11/8/2016</td>\n",
              "      <td>60.549999</td>\n",
              "      <td>60.779999</td>\n",
              "      <td>60.150002</td>\n",
              "      <td>60.470001</td>\n",
              "      <td>55.948589</td>\n",
              "      <td>22935400</td>\n",
              "    </tr>\n",
              "    <tr>\n",
              "      <th>2</th>\n",
              "      <td>11/9/2016</td>\n",
              "      <td>60.000000</td>\n",
              "      <td>60.590000</td>\n",
              "      <td>59.200001</td>\n",
              "      <td>60.169998</td>\n",
              "      <td>55.671009</td>\n",
              "      <td>49632500</td>\n",
              "    </tr>\n",
              "    <tr>\n",
              "      <th>3</th>\n",
              "      <td>11/10/2016</td>\n",
              "      <td>60.480000</td>\n",
              "      <td>60.490002</td>\n",
              "      <td>57.630001</td>\n",
              "      <td>58.700001</td>\n",
              "      <td>54.310928</td>\n",
              "      <td>57822400</td>\n",
              "    </tr>\n",
              "    <tr>\n",
              "      <th>4</th>\n",
              "      <td>11/11/2016</td>\n",
              "      <td>58.230000</td>\n",
              "      <td>59.119999</td>\n",
              "      <td>58.009998</td>\n",
              "      <td>59.020000</td>\n",
              "      <td>54.607002</td>\n",
              "      <td>38767800</td>\n",
              "    </tr>\n",
              "  </tbody>\n",
              "</table>\n",
              "</div>\n",
              "      <button class=\"colab-df-convert\" onclick=\"convertToInteractive('df-1d04c235-3870-4501-a3ae-92c3e147a125')\"\n",
              "              title=\"Convert this dataframe to an interactive table.\"\n",
              "              style=\"display:none;\">\n",
              "        \n",
              "  <svg xmlns=\"http://www.w3.org/2000/svg\" height=\"24px\"viewBox=\"0 0 24 24\"\n",
              "       width=\"24px\">\n",
              "    <path d=\"M0 0h24v24H0V0z\" fill=\"none\"/>\n",
              "    <path d=\"M18.56 5.44l.94 2.06.94-2.06 2.06-.94-2.06-.94-.94-2.06-.94 2.06-2.06.94zm-11 1L8.5 8.5l.94-2.06 2.06-.94-2.06-.94L8.5 2.5l-.94 2.06-2.06.94zm10 10l.94 2.06.94-2.06 2.06-.94-2.06-.94-.94-2.06-.94 2.06-2.06.94z\"/><path d=\"M17.41 7.96l-1.37-1.37c-.4-.4-.92-.59-1.43-.59-.52 0-1.04.2-1.43.59L10.3 9.45l-7.72 7.72c-.78.78-.78 2.05 0 2.83L4 21.41c.39.39.9.59 1.41.59.51 0 1.02-.2 1.41-.59l7.78-7.78 2.81-2.81c.8-.78.8-2.07 0-2.86zM5.41 20L4 18.59l7.72-7.72 1.47 1.35L5.41 20z\"/>\n",
              "  </svg>\n",
              "      </button>\n",
              "      \n",
              "  <style>\n",
              "    .colab-df-container {\n",
              "      display:flex;\n",
              "      flex-wrap:wrap;\n",
              "      gap: 12px;\n",
              "    }\n",
              "\n",
              "    .colab-df-convert {\n",
              "      background-color: #E8F0FE;\n",
              "      border: none;\n",
              "      border-radius: 50%;\n",
              "      cursor: pointer;\n",
              "      display: none;\n",
              "      fill: #1967D2;\n",
              "      height: 32px;\n",
              "      padding: 0 0 0 0;\n",
              "      width: 32px;\n",
              "    }\n",
              "\n",
              "    .colab-df-convert:hover {\n",
              "      background-color: #E2EBFA;\n",
              "      box-shadow: 0px 1px 2px rgba(60, 64, 67, 0.3), 0px 1px 3px 1px rgba(60, 64, 67, 0.15);\n",
              "      fill: #174EA6;\n",
              "    }\n",
              "\n",
              "    [theme=dark] .colab-df-convert {\n",
              "      background-color: #3B4455;\n",
              "      fill: #D2E3FC;\n",
              "    }\n",
              "\n",
              "    [theme=dark] .colab-df-convert:hover {\n",
              "      background-color: #434B5C;\n",
              "      box-shadow: 0px 1px 3px 1px rgba(0, 0, 0, 0.15);\n",
              "      filter: drop-shadow(0px 1px 2px rgba(0, 0, 0, 0.3));\n",
              "      fill: #FFFFFF;\n",
              "    }\n",
              "  </style>\n",
              "\n",
              "      <script>\n",
              "        const buttonEl =\n",
              "          document.querySelector('#df-1d04c235-3870-4501-a3ae-92c3e147a125 button.colab-df-convert');\n",
              "        buttonEl.style.display =\n",
              "          google.colab.kernel.accessAllowed ? 'block' : 'none';\n",
              "\n",
              "        async function convertToInteractive(key) {\n",
              "          const element = document.querySelector('#df-1d04c235-3870-4501-a3ae-92c3e147a125');\n",
              "          const dataTable =\n",
              "            await google.colab.kernel.invokeFunction('convertToInteractive',\n",
              "                                                     [key], {});\n",
              "          if (!dataTable) return;\n",
              "\n",
              "          const docLinkHtml = 'Like what you see? Visit the ' +\n",
              "            '<a target=\"_blank\" href=https://colab.research.google.com/notebooks/data_table.ipynb>data table notebook</a>'\n",
              "            + ' to learn more about interactive tables.';\n",
              "          element.innerHTML = '';\n",
              "          dataTable['output_type'] = 'display_data';\n",
              "          await google.colab.output.renderOutput(dataTable, element);\n",
              "          const docLink = document.createElement('div');\n",
              "          docLink.innerHTML = docLinkHtml;\n",
              "          element.appendChild(docLink);\n",
              "        }\n",
              "      </script>\n",
              "    </div>\n",
              "  </div>\n",
              "  "
            ]
          },
          "metadata": {},
          "execution_count": 56
        }
      ]
    },
    {
      "cell_type": "code",
      "source": [
        "df.plot(figsize=(12, 14), subplots=True)"
      ],
      "metadata": {
        "colab": {
          "base_uri": "https://localhost:8080/",
          "height": 844
        },
        "id": "Nz89OFeqLqDH",
        "outputId": "01c12533-122e-4d85-a647-0e3eaed2bbd2"
      },
      "id": "Nz89OFeqLqDH",
      "execution_count": null,
      "outputs": [
        {
          "output_type": "execute_result",
          "data": {
            "text/plain": [
              "array([<AxesSubplot:>, <AxesSubplot:>, <AxesSubplot:>, <AxesSubplot:>,\n",
              "       <AxesSubplot:>, <AxesSubplot:>], dtype=object)"
            ]
          },
          "metadata": {},
          "execution_count": 57
        },
        {
          "output_type": "display_data",
          "data": {
            "text/plain": [
              "<Figure size 864x1008 with 6 Axes>"
            ],
            "image/png": "[encoded data removed]"
          },
          "metadata": {
            "needs_background": "light"
          }
        }
      ]
    },
    {
      "cell_type": "code",
      "source": [
        "X_Open = df['Close'].values\n",
        "X_Open = X_Open.reshape(-1,1)\n",
        "Y_Open = df['Open'].values\n",
        "Y_Open = Y_Open.reshape(-1,1)"
      ],
      "metadata": {
        "id": "MUq5BrYy_z9W"
      },
      "id": "MUq5BrYy_z9W",
      "execution_count": null,
      "outputs": []
    },
    {
      "cell_type": "code",
      "source": [
        "x_train, x_test, y_train, y_test = train_test_split(X_Open, Y_Open, test_size = 0.3, random_state = 42)"
      ],
      "metadata": {
        "id": "wLh7jraB_1dT"
      },
      "id": "wLh7jraB_1dT",
      "execution_count": null,
      "outputs": []
    },
    {
      "cell_type": "code",
      "source": [
        "x_train.shape"
      ],
      "metadata": {
        "colab": {
          "base_uri": "https://localhost:8080/"
        },
        "id": "rpW-uoYL_2YP",
        "outputId": "4d30840b-a683-4d1a-dd79-b6ddb06e6888"
      },
      "id": "rpW-uoYL_2YP",
      "execution_count": null,
      "outputs": [
        {
          "output_type": "execute_result",
          "data": {
            "text/plain": [
              "(881, 1)"
            ]
          },
          "metadata": {},
          "execution_count": 60
        }
      ]
    },
    {
      "cell_type": "code",
      "source": [
        "x_test.shape"
      ],
      "metadata": {
        "colab": {
          "base_uri": "https://localhost:8080/"
        },
        "id": "67tdYDAZ_3jD",
        "outputId": "9c49d6ad-078a-4e7f-9017-4a9d3ecccf6e"
      },
      "id": "67tdYDAZ_3jD",
      "execution_count": null,
      "outputs": [
        {
          "output_type": "execute_result",
          "data": {
            "text/plain": [
              "(378, 1)"
            ]
          },
          "metadata": {},
          "execution_count": 61
        }
      ]
    },
    {
      "cell_type": "code",
      "source": [
        "y_train.shape"
      ],
      "metadata": {
        "colab": {
          "base_uri": "https://localhost:8080/"
        },
        "id": "N4OvsoPm_4q7",
        "outputId": "aa90d541-5452-40c5-a718-ca47dbe1f8f9"
      },
      "id": "N4OvsoPm_4q7",
      "execution_count": null,
      "outputs": [
        {
          "output_type": "execute_result",
          "data": {
            "text/plain": [
              "(881, 1)"
            ]
          },
          "metadata": {},
          "execution_count": 62
        }
      ]
    },
    {
      "cell_type": "code",
      "source": [
        "y_test.shape"
      ],
      "metadata": {
        "colab": {
          "base_uri": "https://localhost:8080/"
        },
        "id": "2fLQdes9_5wn",
        "outputId": "ffbc16be-b71f-46cf-9c65-0731e04463b4"
      },
      "id": "2fLQdes9_5wn",
      "execution_count": null,
      "outputs": [
        {
          "output_type": "execute_result",
          "data": {
            "text/plain": [
              "(378, 1)"
            ]
          },
          "metadata": {},
          "execution_count": 63
        }
      ]
    },
    {
      "cell_type": "code",
      "source": [
        "lr = LinearRegression()\n",
        "lr.fit(x_train, y_train)"
      ],
      "metadata": {
        "colab": {
          "base_uri": "https://localhost:8080/",
          "height": 75
        },
        "id": "YpTgF7qL_7IP",
        "outputId": "c0a98e03-0eba-4c83-a7af-3cb5ad8c21c7"
      },
      "id": "YpTgF7qL_7IP",
      "execution_count": null,
      "outputs": [
        {
          "output_type": "execute_result",
          "data": {
            "text/plain": [
              "LinearRegression()"
            ],
            "text/html": [
              "<style>#sk-container-id-1 {color: black;background-color: white;}#sk-container-id-1 pre{padding: 0;}#sk-container-id-1 div.sk-toggleable {background-color: white;}#sk-container-id-1 label.sk-toggleable__label {cursor: pointer;display: block;width: 100%;margin-bottom: 0;padding: 0.3em;box-sizing: border-box;text-align: center;}#sk-container-id-1 label.sk-toggleable__label-arrow:before {content: \"▸\";float: left;margin-right: 0.25em;color: #696969;}#sk-container-id-1 label.sk-toggleable__label-arrow:hover:before {color: black;}#sk-container-id-1 div.sk-estimator:hover label.sk-toggleable__label-arrow:before {color: black;}#sk-container-id-1 div.sk-toggleable__content {max-height: 0;max-width: 0;overflow: hidden;text-align: left;background-color: #f0f8ff;}#sk-container-id-1 div.sk-toggleable__content pre {margin: 0.2em;color: black;border-radius: 0.25em;background-color: #f0f8ff;}#sk-container-id-1 input.sk-toggleable__control:checked~div.sk-toggleable__content {max-height: 200px;max-width: 100%;overflow: auto;}#sk-container-id-1 input.sk-toggleable__control:checked~label.sk-toggleable__label-arrow:before {content: \"▾\";}#sk-container-id-1 div.sk-estimator input.sk-toggleable__control:checked~label.sk-toggleable__label {background-color: #d4ebff;}#sk-container-id-1 div.sk-label input.sk-toggleable__control:checked~label.sk-toggleable__label {background-color: #d4ebff;}#sk-container-id-1 input.sk-hidden--visually {border: 0;clip: rect(1px 1px 1px 1px);clip: rect(1px, 1px, 1px, 1px);height: 1px;margin: -1px;overflow: hidden;padding: 0;position: absolute;width: 1px;}#sk-container-id-1 div.sk-estimator {font-family: monospace;background-color: #f0f8ff;border: 1px dotted black;border-radius: 0.25em;box-sizing: border-box;margin-bottom: 0.5em;}#sk-container-id-1 div.sk-estimator:hover {background-color: #d4ebff;}#sk-container-id-1 div.sk-parallel-item::after {content: \"\";width: 100%;border-bottom: 1px solid gray;flex-grow: 1;}#sk-container-id-1 div.sk-label:hover label.sk-toggleable__label {background-color: #d4ebff;}#sk-container-id-1 div.sk-serial::before {content: \"\";position: absolute;border-left: 1px solid gray;box-sizing: border-box;top: 0;bottom: 0;left: 50%;z-index: 0;}#sk-container-id-1 div.sk-serial {display: flex;flex-direction: column;align-items: center;background-color: white;padding-right: 0.2em;padding-left: 0.2em;position: relative;}#sk-container-id-1 div.sk-item {position: relative;z-index: 1;}#sk-container-id-1 div.sk-parallel {display: flex;align-items: stretch;justify-content: center;background-color: white;position: relative;}#sk-container-id-1 div.sk-item::before, #sk-container-id-1 div.sk-parallel-item::before {content: \"\";position: absolute;border-left: 1px solid gray;box-sizing: border-box;top: 0;bottom: 0;left: 50%;z-index: -1;}#sk-container-id-1 div.sk-parallel-item {display: flex;flex-direction: column;z-index: 1;position: relative;background-color: white;}#sk-container-id-1 div.sk-parallel-item:first-child::after {align-self: flex-end;width: 50%;}#sk-container-id-1 div.sk-parallel-item:last-child::after {align-self: flex-start;width: 50%;}#sk-container-id-1 div.sk-parallel-item:only-child::after {width: 0;}#sk-container-id-1 div.sk-dashed-wrapped {border: 1px dashed gray;margin: 0 0.4em 0.5em 0.4em;box-sizing: border-box;padding-bottom: 0.4em;background-color: white;}#sk-container-id-1 div.sk-label label {font-family: monospace;font-weight: bold;display: inline-block;line-height: 1.2em;}#sk-container-id-1 div.sk-label-container {text-align: center;}#sk-container-id-1 div.sk-container {/* jupyter's `normalize.less` sets `[hidden] { display: none; }` but bootstrap.min.css set `[hidden] { display: none !important; }` so we also need the `!important` here to be able to override the default hidden behavior on the sphinx rendered scikit-learn.org. See: https://github.com/scikit-learn/scikit-learn/issues/21755 */display: inline-block !important;position: relative;}#sk-container-id-1 div.sk-text-repr-fallback {display: none;}</style><div id=\"sk-container-id-1\" class=\"sk-top-container\"><div class=\"sk-text-repr-fallback\"><pre>LinearRegression()</pre><b>In a Jupyter environment, please rerun this cell to show the HTML representation or trust the notebook. <br />On GitHub, the HTML representation is unable to render, please try loading this page with nbviewer.org.</b></div><div class=\"sk-container\" hidden><div class=\"sk-item\"><div class=\"sk-estimator sk-toggleable\"><input class=\"sk-toggleable__control sk-hidden--visually\" id=\"sk-estimator-id-1\" type=\"checkbox\" checked><label for=\"sk-estimator-id-1\" class=\"sk-toggleable__label sk-toggleable__label-arrow\">LinearRegression</label><div class=\"sk-toggleable__content\"><pre>LinearRegression()</pre></div></div></div></div></div>"
            ]
          },
          "metadata": {},
          "execution_count": 64
        }
      ]
    },
    {
      "cell_type": "code",
      "source": [
        "open_pred = lr.predict(x_test)"
      ],
      "metadata": {
        "id": "CY8mhQoM_8TO"
      },
      "id": "CY8mhQoM_8TO",
      "execution_count": null,
      "outputs": []
    },
    {
      "cell_type": "code",
      "source": [
        "print('Mean Absolute Error:', metrics.mean_absolute_error(y_test, open_pred))\n",
        "print('Mean Squared Error:', metrics.mean_squared_error(y_test, open_pred))\n",
        "print('Root Mean Squared Error:', np.sqrt(metrics.mean_squared_error(y_test, open_pred)))\n",
        "print('R-squared Error:', metrics.r2_score(y_test, open_pred))"
      ],
      "metadata": {
        "colab": {
          "base_uri": "https://localhost:8080/"
        },
        "id": "C-IUVGPi_9xT",
        "outputId": "ba2db02d-ab50-467f-8cbc-836edc1932bd"
      },
      "id": "C-IUVGPi_9xT",
      "execution_count": null,
      "outputs": [
        {
          "output_type": "stream",
          "name": "stdout",
          "text": [
            "Mean Absolute Error: 1.3468938249252198\n",
            "Mean Squared Error: 3.858623183112474\n",
            "Root Mean Squared Error: 1.9643378485160017\n",
            "R-squared Error: 0.9992319813488215\n"
          ]
        }
      ]
    }
  ],
  "metadata": {
    "colab": {
      "provenance": []
    },
    "kernelspec": {
      "display_name": "Python 3 (ipykernel)",
      "language": "python",
      "name": "python3"
    },
    "language_info": {
      "codemirror_mode": {
        "name": "ipython",
        "version": 3
      },
      "file_extension": ".py",
      "mimetype": "text/x-python",
      "name": "python",
      "nbconvert_exporter": "python",
      "pygments_lexer": "ipython3",
      "version": "3.9.13"
    }
  },
  "nbformat": 4,
  "nbformat_minor": 5
}